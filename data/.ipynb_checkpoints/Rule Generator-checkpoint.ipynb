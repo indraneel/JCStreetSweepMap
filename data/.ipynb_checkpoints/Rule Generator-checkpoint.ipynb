{
 "cells": [
  {
   "cell_type": "code",
   "execution_count": 132,
   "metadata": {
    "collapsed": true
   },
   "outputs": [],
   "source": [
    "import pandas as pd\n",
    "import numpy as np\n",
    "import datetime\n",
    "import os\n",
    "import re\n",
    "import json\n",
    "from ast import literal_eval"
   ]
  },
  {
   "cell_type": "code",
   "execution_count": 163,
   "metadata": {
    "collapsed": true
   },
   "outputs": [],
   "source": [
    "df = pd.read_csv('street_sweep_data_20200104.tsv', sep='\\t', header=0)"
   ]
  },
  {
   "cell_type": "code",
   "execution_count": 164,
   "metadata": {
    "collapsed": true
   },
   "outputs": [],
   "source": [
    "df['street_geometry'] = df['street_geometry'].str.replace('\\s', '')\n",
    "\n",
    "df['street_features'] = df['street_geometry'].str.replace('^\\{\\\"type\\\":\\\"FeatureCollection\\\",\\\"features\\\"\\:\\[', '')\n",
    "\n",
    "df['street_features'] = df['street_features'].str.replace('\\]\\}$', '')\n",
    "\n",
    "df['weekdays'] = df['weekdays'].apply(literal_eval)"
   ]
  },
  {
   "cell_type": "code",
   "execution_count": 165,
   "metadata": {
    "collapsed": true
   },
   "outputs": [],
   "source": [
    "def rules_in_json(row):\n",
    "    # puts the details from the df into the right format\n",
    "    template_string = json.dumps({\"type\": \"Feature\",\"geometry\": {\"type\": \"LineString\",\"coordinates\": []},\"properties\": {\"location\": {\"sideOfStreet\": \"test\",\"marker\": \"sign\",\"streetName\": \"test\"},\"regulations\": [{\"rule\": {\"activity\": \"no parking\",\"reason\": \"street cleaning\"},\"timeSpans\": [{\"daysOfWeek\": {\"days\": []},\"timesOfDay\": [{\"from\": \"test\", \"to\": \"test\"}]}],\"priority\": 3}],}})\n",
    "    template = json.loads(template_string)\n",
    "    template['properties']['location']['streetName'] = row['street']\n",
    "    template['properties']['location']['sideOfStreet'] = row['direction'].lower()\n",
    "    template['properties']['regulations'][0]['timeSpans'][0]['daysOfWeek'] = row['weekdays']\n",
    "    template['properties']['regulations'][0]['timeSpans'][0]['timesOfDay'][0]['from'] = row['start_time']\n",
    "    template['properties']['regulations'][0]['timeSpans'][0]['timesOfDay'][0]['to'] = row['end_time']\n",
    "    return((json.dumps(template)))"
   ]
  },
  {
   "cell_type": "code",
   "execution_count": 166,
   "metadata": {
    "collapsed": true
   },
   "outputs": [],
   "source": [
    "df['street_rules'] = df.apply(rules_in_json, axis = 1)\n",
    "#df.head()"
   ]
  },
  {
   "cell_type": "code",
   "execution_count": 167,
   "metadata": {
    "collapsed": true
   },
   "outputs": [],
   "source": [
    "removed_streets = df[df['street_geometry'].str.contains('^\\w.') == True]"
   ]
  },
  {
   "cell_type": "code",
   "execution_count": 168,
   "metadata": {
    "collapsed": true
   },
   "outputs": [],
   "source": [
    "df = df[df['street_geometry'].str.contains('^\\w+') == False]"
   ]
  },
  {
   "cell_type": "code",
   "execution_count": 151,
   "metadata": {},
   "outputs": [],
   "source": [
    "x = json.loads(removed_streets.loc[667]['street_rules'])\n",
    "y = json.loads(df.loc[668]['street_rules'])\n",
    "y['properties']['regulations'][0]['timeSpans'].append(x['properties']['regulations'][0]['timeSpans'][0])\n",
    "df.loc[668]['street_rules'] = json.dumps(y)"
   ]
  },
  {
   "cell_type": "code",
   "execution_count": 151,
   "metadata": {
    "collapsed": true
   },
   "outputs": [],
   "source": [
    "x = json.loads(removed_streets.loc[667]['street_rules'])\n",
    "y = json.loads(df.loc[669]['street_rules'])\n",
    "y['properties']['regulations'][0]['timeSpans'].append(x['properties']['regulations'][0]['timeSpans'][0])\n",
    "df.loc[669]['street_rules'] = json.dumps(y)"
   ]
  },
  {
   "cell_type": "code",
   "execution_count": 170,
   "metadata": {},
   "outputs": [],
   "source": [
    "def addNewTimeSpan(adding_to, adding_from):\n",
    "    adding_from = json.loads(adding_from['street_rules'])\n",
    "    adding_to = json.loads(adding_to['street_rules'])\n",
    "    \n",
    "    adding_to['properties']['regulations'][0]['timeSpans'].append(adding_from['properties']['regulations'][0]['timeSpans'][0])\n",
    "    return(json.dumps(adding_to))"
   ]
  },
  {
   "cell_type": "code",
   "execution_count": 171,
   "metadata": {
    "collapsed": true
   },
   "outputs": [],
   "source": [
    "df.loc[668]['street_rules'] = addNewTimeSpan(df.loc[668], removed_streets.loc[667])"
   ]
  },
  {
   "cell_type": "code",
   "execution_count": 172,
   "metadata": {
    "collapsed": true
   },
   "outputs": [],
   "source": [
    "df.loc[669]['street_rules'] = addNewTimeSpan(df.loc[669], removed_streets.loc[667])"
   ]
  },
  {
   "cell_type": "code",
   "execution_count": 175,
   "metadata": {},
   "outputs": [
    {
     "data": {
      "text/plain": [
       "'{\"type\": \"Feature\", \"geometry\": {\"type\": \"LineString\", \"coordinates\": []}, \"properties\": {\"location\": {\"sideOfStreet\": \"south\", \"marker\": \"sign\", \"streetName\": \"Newark Av\"}, \"regulations\": [{\"rule\": {\"activity\": \"no parking\", \"reason\": \"street cleaning\"}, \"timeSpans\": [{\"daysOfWeek\": [\"sa\"], \"timesOfDay\": [{\"from\": \"9:00\", \"to\": \"10:00\"}]}, {\"daysOfWeek\": [\"mo\", \"tu\", \"we\", \"th\", \"fr\"], \"timesOfDay\": [{\"from\": \"7:00\", \"to\": \"9:00\"}]}], \"priority\": 3}]}}'"
      ]
     },
     "execution_count": 175,
     "metadata": {},
     "output_type": "execute_result"
    }
   ],
   "source": [
    "df.loc[669]['street_rules']"
   ]
  },
  {
   "cell_type": "code",
   "execution_count": 11,
   "metadata": {
    "collapsed": true
   },
   "outputs": [],
   "source": [
    "df = df.reset_index(drop=True)"
   ]
  },
  {
   "cell_type": "code",
   "execution_count": 12,
   "metadata": {
    "collapsed": true
   },
   "outputs": [],
   "source": [
    "def unroll_lines(df):\n",
    "    group_of_line = []\n",
    "    for i in range(0, len(df)):\n",
    "        street_coords = []\n",
    "        street = json.loads(df['street_geometry'][i])\n",
    "        for feature in street['features']:\n",
    "            segment = feature['geometry']['coordinates']\n",
    "            street_coords.append(segment)\n",
    "        group_of_line.append(street_coords)\n",
    "    return(group_of_line)"
   ]
  },
  {
   "cell_type": "code",
   "execution_count": 13,
   "metadata": {
    "collapsed": true
   },
   "outputs": [],
   "source": [
    "line_segments = unroll_lines(df)"
   ]
  },
  {
   "cell_type": "markdown",
   "metadata": {},
   "source": [
    "x = 0\n",
    "y = 0\n",
    "for street in line_segments:\n",
    "    x += 1\n",
    "    for segment in street:\n",
    "        y += 1\n",
    "        \n",
    "print(x,y)"
   ]
  },
  {
   "cell_type": "code",
   "execution_count": 14,
   "metadata": {},
   "outputs": [
    {
     "name": "stdout",
     "output_type": "stream",
     "text": [
      "1048 3785\n"
     ]
    }
   ],
   "source": [
    "rules_list = []\n",
    "x = 0\n",
    "y = 0\n",
    "for street in line_segments:\n",
    "\n",
    "    for segment in street:\n",
    "        \n",
    "        interim = json.loads(df['street_rules'][x])\n",
    "        interim['geometry']['coordinates'] = segment\n",
    "        final = interim\n",
    "        rules_list.append(json.dumps(final))\n",
    "        y += 1\n",
    "        \n",
    "    x += 1\n",
    "        \n",
    "print(x,y)\n"
   ]
  },
  {
   "cell_type": "code",
   "execution_count": 15,
   "metadata": {
    "collapsed": true
   },
   "outputs": [],
   "source": [
    "featuresAll = '{\"type\":\"FeatureCollection\",\"features\":[' + ','.join(rules_list) + ']}'"
   ]
  },
  {
   "cell_type": "code",
   "execution_count": 16,
   "metadata": {
    "collapsed": true
   },
   "outputs": [],
   "source": [
    "f = open('myfile_all_new.geojson', 'w+')\n",
    "f.write(featuresAll)  # python will convert \\n to os.linesep\n",
    "f.close()  # you can omit in most cases as the destructor will call it"
   ]
  },
  {
   "cell_type": "code",
   "execution_count": null,
   "metadata": {
    "collapsed": true
   },
   "outputs": [],
   "source": []
  }
 ],
 "metadata": {
  "kernelspec": {
   "display_name": "Python 3",
   "language": "python",
   "name": "python3"
  },
  "language_info": {
   "codemirror_mode": {
    "name": "ipython",
    "version": 3
   },
   "file_extension": ".py",
   "mimetype": "text/x-python",
   "name": "python",
   "nbconvert_exporter": "python",
   "pygments_lexer": "ipython3",
   "version": "3.6.1"
  }
 },
 "nbformat": 4,
 "nbformat_minor": 2
}
